{
  "nbformat": 4,
  "nbformat_minor": 0,
  "metadata": {
    "colab": {
      "provenance": [],
      "gpuType": "T4"
    },
    "kernelspec": {
      "name": "python3",
      "display_name": "Python 3"
    },
    "language_info": {
      "name": "python"
    },
    "accelerator": "GPU"
  },
  "cells": [
    {
      "cell_type": "code",
      "execution_count": 54,
      "metadata": {
        "colab": {
          "base_uri": "https://localhost:8080/"
        },
        "id": "94z8m5dArzX_",
        "outputId": "ebeef096-a1c0-4a51-bb6b-137da1c95fad"
      },
      "outputs": [
        {
          "output_type": "stream",
          "name": "stdout",
          "text": [
            "Drive already mounted at /content/gdrive; to attempt to forcibly remount, call drive.mount(\"/content/gdrive\", force_remount=True).\n"
          ]
        }
      ],
      "source": [
        "import pandas as pd\n",
        "import numpy as np\n",
        "import tensorflow as tf\n",
        "from tensorflow.keras.preprocessing.image import load_img, img_to_array\n",
        "from sklearn.preprocessing import LabelEncoder\n",
        "from sklearn.model_selection import train_test_split\n",
        "from sklearn.metrics import accuracy_score, mean_squared_error\n",
        "from tensorflow.keras.models import Sequential\n",
        "from tensorflow.keras.layers import Conv2D, MaxPooling2D, Flatten, Dense, Dropout\n",
        "from tensorflow.keras.optimizers import Adam\n",
        "from google.colab import drive\n",
        "\n",
        "drive.mount('/content/gdrive')"
      ]
    },
    {
      "cell_type": "code",
      "source": [
        "# Load CSV file\n",
        "csv_path = \"/content/gdrive/My Drive/labx20.csv\"\n",
        "image_folder_path = \"/content/gdrive/My Drive/dataset final\"\n",
        "\n",
        "df = pd.read_csv(csv_path)\n",
        "\n",
        "# Define target variable\n",
        "target = df['Satisfaction']\n",
        "\n",
        "# Resize and convert images to numpy arrays\n",
        "image_data = []\n",
        "for image_name in df['Image Name']:\n",
        "    image_path = f\"{image_folder_path}/{image_name}\"\n",
        "    image = load_img(image_path, target_size=(224, 224))\n",
        "    image_array = img_to_array(image)\n",
        "    image_data.append(image_array)\n",
        "\n",
        "image_data = np.array(image_data)"
      ],
      "metadata": {
        "id": "8_3cirVY-zlA"
      },
      "execution_count": 55,
      "outputs": []
    },
    {
      "cell_type": "code",
      "source": [
        "# Map each image with the target variable\n",
        "# Drop Image Name column\n",
        "\n",
        "\n",
        "# Label encode target variable\n",
        "encoder = LabelEncoder()\n",
        "target_encoded = encoder.fit_transform(target)\n",
        "print(\"Encoding mapping:\")\n",
        "for idx, label in enumerate(encoder.classes_):\n",
        "    print(f\"{label} -> {idx}\")"
      ],
      "metadata": {
        "colab": {
          "base_uri": "https://localhost:8080/"
        },
        "id": "KbpWW1mW_AV6",
        "outputId": "a068802c-2d56-40ad-c7d6-4d9060af6873"
      },
      "execution_count": 56,
      "outputs": [
        {
          "output_type": "stream",
          "name": "stdout",
          "text": [
            "Encoding mapping:\n",
            "dissatisfied -> 0\n",
            "neutral -> 1\n",
            "satisfied -> 2\n",
            "very dissatisfied -> 3\n",
            "very satisfied -> 4\n"
          ]
        }
      ]
    },
    {
      "cell_type": "code",
      "source": [
        "\n",
        "# Split dataset into train and test sets\n",
        "X_train, X_test, y_train, y_test = train_test_split(image_data, target_encoded, test_size=0.2, random_state=42)\n"
      ],
      "metadata": {
        "id": "O22stlj3-7sy"
      },
      "execution_count": 59,
      "outputs": []
    },
    {
      "cell_type": "code",
      "source": [
        "# Define hyperparameters\n",
        "batch_size = 20\n",
        "\n",
        "epochs = 4\n",
        "learning_rate = 0.0015\n",
        "\n",
        "\n",
        "\n",
        "\n",
        "\n",
        "# Define CNN model architecture\n",
        "model = Sequential([\n",
        "    Conv2D(32, (3, 3), activation='relu', input_shape=(224, 224, 3)),\n",
        "    MaxPooling2D((2, 2)),\n",
        "    Conv2D(64, (3, 3), activation='relu'),\n",
        "    MaxPooling2D((2, 2)),\n",
        "    Conv2D(128, (3, 3), activation='relu'),\n",
        "    MaxPooling2D((2, 2)),\n",
        "    Flatten(),\n",
        "    Dense(512, activation='relu'),\n",
        "    Dropout(0.4),\n",
        "    Dense(5, activation='softmax')\n",
        "])"
      ],
      "metadata": {
        "id": "vqUThtGS-znb"
      },
      "execution_count": 68,
      "outputs": []
    },
    {
      "cell_type": "code",
      "source": [
        "\n",
        "# Compile the model\n",
        "optimizer = Adam(learning_rate=learning_rate)\n",
        "model.compile(optimizer=optimizer, loss='sparse_categorical_crossentropy', metrics=['accuracy'])\n"
      ],
      "metadata": {
        "id": "XIsPgFy5-zpu"
      },
      "execution_count": 69,
      "outputs": []
    },
    {
      "cell_type": "code",
      "source": [
        "\n",
        "\n",
        "\n",
        "# Train the model\n",
        "history = model.fit(X_train, y_train, epochs=epochs, batch_size=batch_size, validation_split=0.2)\n"
      ],
      "metadata": {
        "colab": {
          "base_uri": "https://localhost:8080/"
        },
        "id": "3o7RBv0R-zsX",
        "outputId": "513907b3-1d57-4052-b1c4-20bea7a3accf"
      },
      "execution_count": 70,
      "outputs": [
        {
          "output_type": "stream",
          "name": "stdout",
          "text": [
            "Epoch 1/4\n",
            "42/42 [==============================] - 4s 53ms/step - loss: 90.1526 - accuracy: 0.7557 - val_loss: 0.9793 - val_accuracy: 0.8696\n",
            "Epoch 2/4\n",
            "42/42 [==============================] - 2s 44ms/step - loss: 0.7619 - accuracy: 0.8682 - val_loss: 0.6413 - val_accuracy: 0.8599\n",
            "Epoch 3/4\n",
            "42/42 [==============================] - 2s 44ms/step - loss: 0.4722 - accuracy: 0.8815 - val_loss: 0.4888 - val_accuracy: 0.8889\n",
            "Epoch 4/4\n",
            "42/42 [==============================] - 2s 49ms/step - loss: 0.4108 - accuracy: 0.8888 - val_loss: 0.4624 - val_accuracy: 0.8889\n"
          ]
        }
      ]
    },
    {
      "cell_type": "code",
      "source": [
        "# Evaluate the model\n",
        "test_loss, test_acc = model.evaluate(X_test, y_test)\n",
        "print(\"Test Accuracy:\", test_acc)\n"
      ],
      "metadata": {
        "colab": {
          "base_uri": "https://localhost:8080/"
        },
        "id": "cxVJRcmH-zur",
        "outputId": "178d13aa-f63c-451e-8945-0e3416c1bf66"
      },
      "execution_count": 71,
      "outputs": [
        {
          "output_type": "stream",
          "name": "stdout",
          "text": [
            "9/9 [==============================] - 0s 18ms/step - loss: 0.6722 - accuracy: 0.8378\n",
            "Test Accuracy: 0.837837815284729\n"
          ]
        }
      ]
    },
    {
      "cell_type": "code",
      "source": [
        "\n",
        "# Save the model\n",
        "model.save(\"/content/gdrive/My Drive/Satisfaction(83).h5\")"
      ],
      "metadata": {
        "id": "O34OMKIF-zxH",
        "colab": {
          "base_uri": "https://localhost:8080/"
        },
        "outputId": "83e8b9fd-1410-441e-a5de-4b0b14a2d4d6"
      },
      "execution_count": 72,
      "outputs": [
        {
          "output_type": "stream",
          "name": "stderr",
          "text": [
            "/usr/local/lib/python3.10/dist-packages/keras/src/engine/training.py:3103: UserWarning: You are saving your model as an HDF5 file via `model.save()`. This file format is considered legacy. We recommend using instead the native Keras format, e.g. `model.save('my_model.keras')`.\n",
            "  saving_api.save_model(\n"
          ]
        }
      ]
    },
    {
      "cell_type": "code",
      "source": [
        "import numpy as np\n",
        "from tensorflow.keras.preprocessing.image import load_img, img_to_array\n",
        "from tensorflow.keras.models import load_model\n",
        "from google.colab import drive\n",
        "\n",
        "drive.mount('/content/gdrive')\n",
        "\n",
        "# Load the trained model\n",
        "model_path = \"/content/gdrive/My Drive/Color Consistency(96).h5\"\n",
        "model = load_model(model_path)\n",
        "\n",
        "# Define function to predict intensity for an image\n",
        "def predict_intensity(image_path):\n",
        "    # Load and preprocess the image\n",
        "    image = load_img(image_path, target_size=(224, 224))\n",
        "    image_array = img_to_array(image)\n",
        "    image_array = np.expand_dims(image_array, axis=0)\n",
        "    # Make prediction using the model\n",
        "    prediction = model.predict(image_array)\n",
        "    predicted_intensity = np.argmax(prediction)\n",
        "    return predicted_intensity\n",
        "\n",
        "# Example usage\n",
        "image_path = \"/content/gdrive/My Drive/dataset final/Utility Apps (63).png\"\n",
        "predicted_intensity = predict_intensity(image_path)\n",
        "print(\"Predicted Intensity:\", predicted_intensity)\n"
      ],
      "metadata": {
        "colab": {
          "base_uri": "https://localhost:8080/"
        },
        "id": "jY96QNRV-zzY",
        "outputId": "59679896-e4cb-4764-8dbe-b9d4a6929fb3"
      },
      "execution_count": 14,
      "outputs": [
        {
          "output_type": "stream",
          "name": "stdout",
          "text": [
            "Drive already mounted at /content/gdrive; to attempt to forcibly remount, call drive.mount(\"/content/gdrive\", force_remount=True).\n",
            "1/1 [==============================] - 0s 337ms/step\n",
            "Predicted Intensity: 0\n"
          ]
        }
      ]
    },
    {
      "cell_type": "code",
      "source": [
        "Utility Apps (9).png\n",
        "bad (17).png"
      ],
      "metadata": {
        "id": "okaOFZ6m-z1g"
      },
      "execution_count": null,
      "outputs": []
    },
    {
      "cell_type": "code",
      "source": [],
      "metadata": {
        "id": "linekw_Q-z4G"
      },
      "execution_count": null,
      "outputs": []
    },
    {
      "cell_type": "code",
      "source": [],
      "metadata": {
        "id": "gIdj4pdN-z6J"
      },
      "execution_count": null,
      "outputs": []
    },
    {
      "cell_type": "code",
      "source": [],
      "metadata": {
        "id": "TnsKRJFf9UKz"
      },
      "execution_count": null,
      "outputs": []
    },
    {
      "cell_type": "code",
      "source": [
        "model.save(\"/content/gdrive/My Drive/cnn_model.h5\")"
      ],
      "metadata": {
        "colab": {
          "base_uri": "https://localhost:8080/"
        },
        "id": "iEKcv0-0sr00",
        "outputId": "8b856ea1-d76b-4859-e52c-9cbf30c8ff86"
      },
      "execution_count": null,
      "outputs": [
        {
          "output_type": "stream",
          "name": "stderr",
          "text": [
            "/usr/local/lib/python3.10/dist-packages/keras/src/engine/training.py:3103: UserWarning: You are saving your model as an HDF5 file via `model.save()`. This file format is considered legacy. We recommend using instead the native Keras format, e.g. `model.save('my_model.keras')`.\n",
            "  saving_api.save_model(\n"
          ]
        }
      ]
    },
    {
      "cell_type": "code",
      "source": [],
      "metadata": {
        "id": "0m01Gmux2OAY"
      },
      "execution_count": null,
      "outputs": []
    },
    {
      "cell_type": "code",
      "source": [
        "import numpy as np\n",
        "from tensorflow.keras.models import load_model\n",
        "from tensorflow.keras.preprocessing.image import load_img, img_to_array\n",
        "\n",
        "# Load the saved model\n",
        "model_path = \"/content/gdrive/My Drive/overlay_intensity1(71).h5\"\n",
        "model = load_model(model_path)\n",
        "\n",
        "# Define function to predict intensity for a given image\n",
        "def predict_intensity(image_path):\n",
        "    # Load and preprocess the image\n",
        "    image = load_img(image_path, target_size=(224, 224))\n",
        "    image_array = img_to_array(image)\n",
        "    image_array = np.expand_dims(image_array, axis=0)\n",
        "\n",
        "    # Make prediction\n",
        "    prediction = model.predict(image_array)\n",
        "\n",
        "    # Decode prediction\n",
        "    intensity_classes = ['Low', 'Moderate', 'High', 'None']\n",
        "    predicted_class = np.argmax(prediction)\n",
        "    intensity = intensity_classes[predicted_class]\n",
        "\n",
        "    return intensity\n",
        "\n",
        "# Path to the image for prediction\n",
        "image_path = \"/content/gdrive/My Drive/dataset final/bad (200).png\"\n",
        "\n",
        "# Predict intensity for the image\n",
        "predicted_intensity = predict_intensity(image_path)\n",
        "print(\"Predicted Overlay Intensity:\", predicted_intensity)\n"
      ],
      "metadata": {
        "colab": {
          "base_uri": "https://localhost:8080/"
        },
        "id": "vbEIjhI42OC2",
        "outputId": "b98cf1db-739d-4530-b65b-27f001818e20"
      },
      "execution_count": null,
      "outputs": [
        {
          "output_type": "stream",
          "name": "stdout",
          "text": [
            "1/1 [==============================] - 0s 82ms/step\n",
            "Predicted Overlay Intensity: Low\n"
          ]
        }
      ]
    },
    {
      "cell_type": "code",
      "source": [
        "encoder = LabelEncoder()\n",
        "target_encoded = encoder.fit_transform(target)\n",
        "print(target_encoded)"
      ],
      "metadata": {
        "colab": {
          "base_uri": "https://localhost:8080/"
        },
        "id": "sDqt3UMv2OFS",
        "outputId": "62515e61-b893-4df8-a0ef-e7b2358b2e63"
      },
      "execution_count": null,
      "outputs": [
        {
          "output_type": "stream",
          "name": "stdout",
          "text": [
            "[0 0 0 ... 1 1 2]\n"
          ]
        }
      ]
    },
    {
      "cell_type": "markdown",
      "source": [],
      "metadata": {
        "id": "KozH4RJx2NjX"
      }
    }
  ]
}